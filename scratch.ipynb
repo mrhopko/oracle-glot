{
 "cells": [
  {
   "cell_type": "code",
   "execution_count": 1,
   "metadata": {},
   "outputs": [],
   "source": [
    "import sqlglot\n",
    "from sqlglot import exp\n",
    "import sqlglot.optimizer\n",
    "from sqlglot.optimizer.eliminate_subqueries import eliminate_subqueries\n",
    "from sqlglot.optimizer.scope import build_scope, find_all_in_scope\n",
    "import copy\n",
    "from typing import Dict, Optional, Tuple\n",
    "import logging\n",
    "logging.basicConfig(level=logging.WARN)"
   ]
  },
  {
   "cell_type": "code",
   "execution_count": 2,
   "metadata": {},
   "outputs": [],
   "source": [
    "file = \"./sql/old_join.sql\"\n",
    "with open(file, \"r\") as f:\n",
    "    sql = f.read()"
   ]
  },
  {
   "cell_type": "code",
   "execution_count": 4,
   "metadata": {},
   "outputs": [
    {
     "name": "stderr",
     "output_type": "stream",
     "text": [
      "WARNING:sqlglot:Outer join syntax using the (+) operator is not supported.\n",
      "WARNING:sqlglot:Outer join syntax using the (+) operator is not supported.\n",
      "WARNING:sqlglot:Outer join syntax using the (+) operator is not supported.\n",
      "WARNING:sqlglot:Outer join syntax using the (+) operator is not supported.\n",
      "WARNING:sqlglot:Outer join syntax using the (+) operator is not supported.\n",
      "WARNING:sqlglot:Outer join syntax using the (+) operator is not supported.\n",
      "WARNING:sqlglot:Outer join syntax using the (+) operator is not supported.\n"
     ]
    },
    {
     "name": "stdout",
     "output_type": "stream",
     "text": [
      "WITH table3 AS (\n",
      "  SELECT\n",
      "    tableInner1.id\n",
      "  FROM tableInner1\n",
      "  LEFT JOIN tableInner2\n",
      "    ON tableInner1.id = tableInner2.id\n",
      ")\n",
      "SELECT\n",
      "  table1.id,\n",
      "  table2.cloumn1\n",
      "FROM table1\n",
      "RIGHT JOIN table2\n",
      "  ON table2.id = table3.id AND table1.id = table2.id\n",
      "LEFT JOIN table3\n",
      "  ON table1.id = table3.id\n",
      "WHERE\n",
      "  table1.id = 1\n"
     ]
    }
   ],
   "source": [
    "from oracle_glot.convert import oracle_to_ansi_transform, oracle_to_ansi_sql\n",
    "print(oracle_to_ansi_sql(sql)) \n"
   ]
  },
  {
   "cell_type": "code",
   "execution_count": 4,
   "metadata": {},
   "outputs": [
    {
     "name": "stdout",
     "output_type": "stream",
     "text": [
      "Select(\n",
      "  expressions=[\n",
      "    Star()],\n",
      "  from=From(\n",
      "    this=Table(\n",
      "      this=Identifier(this=t1, quoted=False))),\n",
      "  joins=[\n",
      "    Join(\n",
      "      this=Table(\n",
      "        this=Identifier(this=t2, quoted=False)),\n",
      "      on=EQ(\n",
      "        this=Column(\n",
      "          this=Identifier(this=a, quoted=False),\n",
      "          table=Identifier(this=t1, quoted=False)),\n",
      "        expression=Column(\n",
      "          this=Identifier(this=a, quoted=False),\n",
      "          table=Identifier(this=t2, quoted=False))))],\n",
      "  where=Where(\n",
      "    this=EQ(\n",
      "      this=Column(\n",
      "        this=Identifier(this=a, quoted=False)),\n",
      "      expression=Literal(this=1, is_string=False))))\n"
     ]
    }
   ],
   "source": [
    "simple_ast = sqlglot.parse_one(\"select * from t1 join t2 on t1.a = t2.a where a = 1\", dialect=\"oracle\")\n",
    "replace_ast = sqlglot.parse_one(\"select t1.a from t1 join t2 on t1.a = t2.a\", dialect=\"oracle\")\n",
    "\n",
    "node = simple_ast.find(exp.Select)\n",
    "node.root().replace(replace_ast.root())\n",
    "print(repr(simple_ast))"
   ]
  },
  {
   "cell_type": "code",
   "execution_count": null,
   "metadata": {},
   "outputs": [],
   "source": []
  }
 ],
 "metadata": {
  "kernelspec": {
   "display_name": ".venv",
   "language": "python",
   "name": "python3"
  },
  "language_info": {
   "codemirror_mode": {
    "name": "ipython",
    "version": 3
   },
   "file_extension": ".py",
   "mimetype": "text/x-python",
   "name": "python",
   "nbconvert_exporter": "python",
   "pygments_lexer": "ipython3",
   "version": "3.11.7"
  }
 },
 "nbformat": 4,
 "nbformat_minor": 2
}
